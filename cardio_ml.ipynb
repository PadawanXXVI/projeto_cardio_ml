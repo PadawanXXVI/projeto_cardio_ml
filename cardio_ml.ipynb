{
 "cells": [
  {
   "cell_type": "markdown",
   "id": "6b64489a",
   "metadata": {},
   "source": [
    "# 🧠 Fase 1 – Entendimento do Negócio\n",
    "\n",
    "Este projeto tem como objetivo prever o risco de doenças cardiovasculares com base em dados clínicos e hábitos de vida de pacientes.\n",
    "\n",
    "**Objetivo:** Construir um modelo de classificação binária que indique se o paciente possui (`1`) ou não (`0`) um risco cardiovascular, com base em atributos como idade, pressão arterial, colesterol, glicose, IMC, entre outros.\n",
    "\n",
    "**Justificativa:** Doenças cardiovasculares são a principal causa de morte no mundo. Prever o risco de forma antecipada permite ações preventivas e direcionamento de recursos em saúde.\n",
    "\n",
    "**Variável-alvo:** `cardio`  \n",
    "- 1 → presença de risco cardiovascular  \n",
    "- 0 → ausência de risco\n",
    "\n",
    "**Critério de sucesso:** Obter um modelo com **alta acurácia** e **baixo índice de falsos negativos**, priorizando a detecção precoce do risco.\n"
   ]
  },
  {
   "cell_type": "markdown",
   "id": "8c28d43f",
   "metadata": {},
   "source": [
    "## 📋 Dicionário de Variáveis do Dataset\n",
    "\n",
    "| Coluna         | Descrição                                                                 |\n",
    "|----------------|--------------------------------------------------------------------------|\n",
    "| `id`           | Identificador único do paciente                                          |\n",
    "| `age`          | Idade em dias (transformaremos em anos)                                 |\n",
    "| `gender`       | 1 = feminino, 2 = masculino                                              |\n",
    "| `height`       | Altura em centímetros                                                    |\n",
    "| `weight`       | Peso em quilogramas                                                      |\n",
    "| `ap_hi`        | Pressão arterial sistólica (máxima)                                      |\n",
    "| `ap_lo`        | Pressão arterial diastólica (mínima)                                     |\n",
    "| `cholesterol`  | 1 = normal, 2 = acima do normal, 3 = muito acima do normal               |\n",
    "| `gluc`         | Glicose (mesma codificação de colesterol)                                |\n",
    "| `smoke`        | 1 = fuma, 0 = não fuma                                                   |\n",
    "| `alco`         | 1 = consome álcool, 0 = não consome                                      |\n",
    "| `active`       | 1 = fisicamente ativo, 0 = inativo                                       |\n",
    "| `cardio`       | 1 = risco de doença cardiovascular, 0 = sem risco                        |\n"
   ]
  },
  {
   "cell_type": "markdown",
   "id": "9f78b78c",
   "metadata": {},
   "source": [
    "# 📊 Fase 2 – Entendimento dos Dados\n",
    "\n",
    "Nesta etapa, realizamos a leitura do dataset, inspeção inicial das variáveis e estatísticas descritivas.\n"
   ]
  },
  {
   "cell_type": "code",
   "execution_count": null,
   "id": "d71abf13",
   "metadata": {},
   "outputs": [],
   "source": [
    "# Importação de bibliotecas\n",
    "import pandas as pd\n",
    "import numpy as np\n",
    "import matplotlib.pyplot as plt\n",
    "import seaborn as sns\n",
    "\n",
    "# Configuração de estilo\n",
    "sns.set(style='whitegrid')\n",
    "plt.rcParams['figure.figsize'] = (10, 5)\n"
   ]
  },
  {
   "cell_type": "code",
   "execution_count": null,
   "id": "e12688d9",
   "metadata": {},
   "outputs": [],
   "source": [
    "# Leitura do dataset\n",
    "df = pd.read_csv(\"cardio_train.csv\", sep=';')\n",
    "df.head()"
   ]
  },
  {
   "cell_type": "code",
   "execution_count": null,
   "id": "69dbfd99",
   "metadata": {},
   "outputs": [],
   "source": [
    "# Verificando dimensões\n",
    "print(f\"Total de registros: {df.shape[0]} linhas e {df.shape[1]} colunas.\")"
   ]
  },
  {
   "cell_type": "code",
   "execution_count": null,
   "id": "f550001e",
   "metadata": {},
   "outputs": [],
   "source": [
    "# Verificando tipos de dados\n",
    "df.dtypes"
   ]
  },
  {
   "cell_type": "code",
   "execution_count": null,
   "id": "cd6b5c70",
   "metadata": {},
   "outputs": [],
   "source": [
    "# Verificando valores nulos\n",
    "df.isnull().sum()"
   ]
  },
  {
   "cell_type": "code",
   "execution_count": null,
   "id": "24b5488e",
   "metadata": {},
   "outputs": [],
   "source": [
    "# Estatísticas descritivas\n",
    "df.describe()"
   ]
  },
  {
   "cell_type": "code",
   "execution_count": null,
   "id": "e17f0a5b",
   "metadata": {},
   "outputs": [],
   "source": [
    "# Gráfico: distribuição da variável-alvo\n",
    "sns.countplot(data=df, x='cardio')\n",
    "plt.title('Distribuição da variável-alvo (cardio)')\n",
    "plt.show()"
   ]
  },
  {
   "cell_type": "code",
   "execution_count": null,
   "id": "0d7d7677",
   "metadata": {},
   "outputs": [],
   "source": [
    "# Gráfico: distribuição da idade\n",
    "sns.histplot(data=df, x='age_years', hue='cardio', kde=True, bins=30)\n",
    "plt.title('Distribuição da idade por presença de risco cardiovascular')\n",
    "plt.show()"
   ]
  },
  {
   "cell_type": "code",
   "execution_count": null,
   "id": "02175d35",
   "metadata": {},
   "outputs": [],
   "source": [
    "# Boxplot da pressão sistólica por classe\n",
    "sns.boxplot(data=df, x='cardio', y='ap_hi')\n",
    "plt.title('Pressão Sistólica (ap_hi) por Classe')\n",
    "plt.show()"
   ]
  },
  {
   "cell_type": "code",
   "execution_count": null,
   "id": "793a7378",
   "metadata": {},
   "outputs": [],
   "source": [
    "# Heatmap de correlação\n",
    "plt.figure(figsize=(12, 8))\n",
    "sns.heatmap(df.corr(), annot=True, cmap='coolwarm')\n",
    "plt.title('Correlação entre variáveis numéricas')\n",
    "plt.show()"
   ]
  },
  {
   "cell_type": "code",
   "execution_count": null,
   "id": "279bcab9",
   "metadata": {},
   "outputs": [],
   "source": [
    "# Verificando valores inconsistentes\n",
    "df[(df['ap_hi'] < df['ap_lo']) | (df['height'] < 100) | (df['height'] > 250) | (df['weight'] < 30) | (df['weight'] > 200)]"
   ]
  },
  {
   "cell_type": "code",
   "execution_count": null,
   "id": "f2290d92",
   "metadata": {},
   "outputs": [],
   "source": [
    "# Transformar idade de dias para anos\n",
    "df['age_years'] = (df['age'] / 365).astype(int)\n",
    "df[['age', 'age_years']].head()"
   ]
  },
  {
   "cell_type": "markdown",
   "id": "2e2cf71d",
   "metadata": {},
   "source": [
    "# 🔧 Fase 3 – Preparação dos Dados\n",
    "\n",
    "(Em desenvolvimento)"
   ]
  },
  {
   "cell_type": "markdown",
   "id": "9d18a178",
   "metadata": {},
   "source": [
    "# 🤖 Fase 4 – Modelagem\n",
    "\n",
    "(Em desenvolvimento)"
   ]
  },
  {
   "cell_type": "markdown",
   "id": "15e44e7c",
   "metadata": {},
   "source": [
    "# 📈 Fase 5 – Avaliação\n",
    "\n",
    "(Em desenvolvimento)"
   ]
  },
  {
   "cell_type": "markdown",
   "id": "a11a3ca1",
   "metadata": {},
   "source": [
    "# 🚀 Fase 6 – Implantação\n",
    "\n",
    "(Em desenvolvimento)"
   ]
  },
  {
   "cell_type": "markdown",
   "id": "39f1fced",
   "metadata": {},
   "source": [
    "# 🔧 Fase 3 – Preparação dos Dados\n",
    "\n",
    "Nesta etapa, os dados são transformados para que possam ser usados pelos algoritmos de aprendizado de máquina.\n"
   ]
  },
  {
   "cell_type": "code",
   "execution_count": null,
   "id": "74557d0c",
   "metadata": {},
   "outputs": [],
   "source": [
    "# Remoção de colunas desnecessárias\n",
    "df.drop(columns=[\"id\", \"age\"], inplace=True)\n",
    "\n",
    "# Separação entre atributos (X) e rótulo (y)\n",
    "X = df.drop(\"cardio\", axis=1)\n",
    "y = df[\"cardio\"]"
   ]
  },
  {
   "cell_type": "code",
   "execution_count": null,
   "id": "96284a28",
   "metadata": {},
   "outputs": [],
   "source": [
    "# Divisão treino/teste\n",
    "from sklearn.model_selection import train_test_split\n",
    "\n",
    "x_train, x_test, y_train, y_test = train_test_split(X, y, test_size=0.3, stratify=y, random_state=42)\n",
    "print(f\"Tamanho do conjunto de treino: {x_train.shape}\")\n",
    "print(f\"Tamanho do conjunto de teste: {x_test.shape}\")"
   ]
  },
  {
   "cell_type": "markdown",
   "id": "ecc162cb",
   "metadata": {},
   "source": [
    "# 🤖 Fase 4 – Modelagem dos Algoritmos\n",
    "\n",
    "Aqui treinamos e avaliamos vários modelos de classificação supervisionada.\n"
   ]
  },
  {
   "cell_type": "code",
   "execution_count": null,
   "id": "0b3bc5cf",
   "metadata": {},
   "outputs": [],
   "source": [
    "# Importação dos modelos\n",
    "from sklearn.ensemble import RandomForestClassifier, GradientBoostingClassifier\n",
    "from sklearn.linear_model import LogisticRegression\n",
    "from sklearn.naive_bayes import GaussianNB\n",
    "from sklearn.svm import SVC\n",
    "from sklearn.neural_network import MLPClassifier\n",
    "\n",
    "# Treinamento dos modelos\n",
    "modelos = [\n",
    "    RandomForestClassifier(n_estimators=100, random_state=42),\n",
    "    LogisticRegression(max_iter=1000),\n",
    "    GaussianNB(),\n",
    "    SVC(probability=True),\n",
    "    GradientBoostingClassifier(n_estimators=100),\n",
    "    MLPClassifier(hidden_layer_sizes=(15,), max_iter=1000)\n",
    "]\n",
    "\n",
    "modelos_treinados = []\n",
    "for modelo in modelos:\n",
    "    try:\n",
    "        modelo.fit(x_train, y_train)\n",
    "        modelos_treinados.append(modelo)\n",
    "    except Exception as e:\n",
    "        print(f\"Erro ao treinar {type(modelo).__name__}: {e}\")"
   ]
  },
  {
   "cell_type": "markdown",
   "id": "34a1a7d2",
   "metadata": {},
   "source": [
    "# 📈 Fase 5 – Avaliação\n",
    "\n",
    "Avaliação dos modelos com base na acurácia e matriz de confusão.\n"
   ]
  },
  {
   "cell_type": "code",
   "execution_count": null,
   "id": "a5dceffb",
   "metadata": {},
   "outputs": [],
   "source": [
    "from sklearn.metrics import accuracy_score, confusion_matrix\n",
    "import matplotlib.pyplot as plt\n",
    "import seaborn as sns\n",
    "\n",
    "acuracias = []\n",
    "for modelo in modelos_treinados:\n",
    "    nome = type(modelo).__name__\n",
    "    y_pred = modelo.predict(x_test)\n",
    "    acc = accuracy_score(y_test, y_pred)\n",
    "    acuracias.append((nome, acc))\n",
    "    print(f\"{nome} - Acurácia: {acc:.4f}\")\n"
   ]
  },
  {
   "cell_type": "markdown",
   "id": "27f91e63",
   "metadata": {},
   "source": [
    "# 🚀 Fase 6 – Implantação\n",
    "\n",
    "Persistência do melhor modelo usando `pickle` para uso futuro.\n"
   ]
  },
  {
   "cell_type": "code",
   "execution_count": null,
   "id": "c999f20f",
   "metadata": {},
   "outputs": [],
   "source": [
    "# Escolher melhor modelo com base na acurácia\n",
    "melhor_modelo = sorted(acuracias, key=lambda x: x[1], reverse=True)[0][0]\n",
    "print(f\"Melhor modelo: {melhor_modelo}\")\n",
    "\n",
    "# Salvar modelo\n",
    "import pickle\n",
    "\n",
    "modelo_final = [m for m in modelos_treinados if type(m).__name__ == melhor_modelo][0]\n",
    "\n",
    "with open(\"modelo_cardio.pickle\", \"wb\") as file:\n",
    "    pickle.dump(modelo_final, file)\n"
   ]
  },
  {
   "cell_type": "code",
   "execution_count": null,
   "id": "84569b57",
   "metadata": {},
   "outputs": [],
   "source": [
    "# Nova separação: treino (70%), validação (15%), teste (15%)\n",
    "x_temp, x_test, y_temp, y_test = train_test_split(X, y, test_size=0.15, stratify=y, random_state=42)\n",
    "x_train, x_val, y_train, y_val = train_test_split(x_temp, y_temp, test_size=0.1765, stratify=y_temp, random_state=42)  # 0.1765 ≈ 15% do total\n",
    "\n",
    "print(f\"Treino: {len(x_train)} | Validação: {len(x_val)} | Teste: {len(x_test)}\")"
   ]
  },
  {
   "cell_type": "code",
   "execution_count": null,
   "id": "f4500d74",
   "metadata": {},
   "outputs": [],
   "source": [
    "from sklearn.metrics import classification_report\n",
    "\n",
    "# Relatório completo do melhor modelo\n",
    "modelo = modelos_treinados[0]\n",
    "y_pred = modelo.predict(x_test)\n",
    "print(\"Relatório de Classificação:\")\n",
    "print(classification_report(y_test, y_pred))"
   ]
  },
  {
   "cell_type": "code",
   "execution_count": null,
   "id": "9c3424c7",
   "metadata": {},
   "outputs": [],
   "source": [
    "from sklearn.metrics import ConfusionMatrixDisplay\n",
    "\n",
    "cm = confusion_matrix(y_test, y_pred)\n",
    "disp = ConfusionMatrixDisplay(confusion_matrix=cm)\n",
    "disp.plot()\n",
    "plt.title(\"Matriz de Confusão - \" + type(modelo).__name__)\n",
    "plt.show()"
   ]
  }
 ],
 "metadata": {},
 "nbformat": 4,
 "nbformat_minor": 5
}
